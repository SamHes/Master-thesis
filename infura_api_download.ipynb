{
 "cells": [
  {
   "cell_type": "code",
   "execution_count": 1,
   "metadata": {},
   "outputs": [],
   "source": [
    "import requests\n",
    "import time\n",
    "import csv\n",
    "import pandas as pd\n",
    "import os\n",
    "from web3 import Web3\n",
    "from dotenv import load_dotenv"
   ]
  },
  {
   "cell_type": "code",
   "execution_count": 2,
   "metadata": {},
   "outputs": [],
   "source": [
    "csv_files = [\n",
    "    'data/aave/AAVE.csv',\n",
    "    'data/aave/aEthAAVE.csv',\n",
    "    'data/aave/aEthUSDC.csv',\n",
    "    'data/aave/aEthUSDT.csv',\n",
    "    'data/aave/aEthWETH.csv',\n",
    "    'data/aave/stkAAVE.csv',\n",
    "    'data/compound/cCOMP.csv',\n",
    "    'data/compound/COMP.csv',\n",
    "    'data/compound/cUSDCv3.csv',\n",
    "    'data/compound/cUSDTv3.csv',\n",
    "    'data/compound/cWETHv3.csv',\n",
    "]\n",
    "\n",
    "df_list = []\n",
    "\n",
    "for file in csv_files:\n",
    "    df = pd.read_csv(file)\n",
    "    df_list.append(df)\n",
    "    \n",
    "combined_df = pd.concat(df_list, ignore_index=True)\n",
    "\n",
    "addresses = pd.concat([combined_df['from'], combined_df['to']])\n",
    "\n",
    "unique_addresses = addresses.drop_duplicates()\n",
    "\n",
    "unique_addresses_df = pd.DataFrame(unique_addresses, columns=['address']).reset_index(drop=True)"
   ]
  },
  {
   "cell_type": "code",
   "execution_count": 3,
   "metadata": {},
   "outputs": [],
   "source": [
    "csv_node_files = [\n",
    "    'data/stkAAVE_node_table_jan_2024.csv',\n",
    "    'data/node_table_jan_2024.csv'\n",
    "]\n",
    "\n",
    "df_list = []\n",
    "\n",
    "for file in csv_node_files:\n",
    "    df = pd.read_csv(file)\n",
    "    df_list.append(df)\n",
    "    \n",
    "combined_node_df = pd.concat(df_list, ignore_index=True).drop_duplicates(ignore_index=True)"
   ]
  },
  {
   "cell_type": "code",
   "execution_count": 4,
   "metadata": {},
   "outputs": [],
   "source": [
    "unique_addresses_df = pd.merge(unique_addresses_df, combined_node_df[['address', 'type']], on='address', how='left')\n",
    "\n",
    "nan_addresses = unique_addresses_df[unique_addresses_df['type'].isna()]"
   ]
  },
  {
   "cell_type": "code",
   "execution_count": 10,
   "metadata": {},
   "outputs": [],
   "source": [
    "not_na_addresses = unique_addresses_df[unique_addresses_df['type'].notna()]"
   ]
  },
  {
   "cell_type": "code",
   "execution_count": 5,
   "metadata": {},
   "outputs": [],
   "source": [
    "nan_addresses_first = nan_addresses.iloc[300000:]"
   ]
  },
  {
   "cell_type": "code",
   "execution_count": null,
   "metadata": {},
   "outputs": [],
   "source": [
    "load_dotenv()\n",
    "api_key = os.getenv('INFURA_API_KEY')"
   ]
  },
  {
   "cell_type": "code",
   "execution_count": 6,
   "metadata": {},
   "outputs": [],
   "source": [
    "infura_url = f'https://mainnet.infura.io/v3/{api_key}'\n",
    "web3 = Web3(Web3.HTTPProvider(infura_url))\n",
    "\n",
    "def is_contract(address):\n",
    "    code = web3.eth.get_code(Web3.to_checksum_address(address))\n",
    "    return len(code) > 2"
   ]
  },
  {
   "cell_type": "code",
   "execution_count": 7,
   "metadata": {},
   "outputs": [
    {
     "name": "stderr",
     "output_type": "stream",
     "text": [
      "C:\\Users\\Sam\\AppData\\Local\\Temp\\ipykernel_26160\\2446963879.py:1: SettingWithCopyWarning: \n",
      "A value is trying to be set on a copy of a slice from a DataFrame.\n",
      "Try using .loc[row_indexer,col_indexer] = value instead\n",
      "\n",
      "See the caveats in the documentation: https://pandas.pydata.org/pandas-docs/stable/user_guide/indexing.html#returning-a-view-versus-a-copy\n",
      "  nan_addresses_first['type'] = nan_addresses_first['address'].apply(is_contract)\n"
     ]
    }
   ],
   "source": [
    "nan_addresses_first['type'] = nan_addresses_first['address'].apply(is_contract)\n",
    "nan_addresses_first.to_csv('data/node_table_2.csv', index=False)"
   ]
  }
 ],
 "metadata": {
  "kernelspec": {
   "display_name": ".venv",
   "language": "python",
   "name": "python3"
  },
  "language_info": {
   "codemirror_mode": {
    "name": "ipython",
    "version": 3
   },
   "file_extension": ".py",
   "mimetype": "text/x-python",
   "name": "python",
   "nbconvert_exporter": "python",
   "pygments_lexer": "ipython3",
   "version": "3.9.4"
  }
 },
 "nbformat": 4,
 "nbformat_minor": 2
}
