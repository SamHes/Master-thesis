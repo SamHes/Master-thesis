{
 "cells": [
  {
   "cell_type": "code",
   "execution_count": 1,
   "metadata": {},
   "outputs": [],
   "source": [
    "import requests\n",
    "import json\n",
    "import time"
   ]
  },
  {
   "cell_type": "code",
   "execution_count": 2,
   "metadata": {},
   "outputs": [],
   "source": [
    "with open('../data/proposals/aave/aave_snapshot_proposals_1_year.json', 'r', encoding='utf8') as file:\n",
    "    data = json.load(file)"
   ]
  },
  {
   "cell_type": "code",
   "execution_count": 10,
   "metadata": {},
   "outputs": [],
   "source": [
    "url = \"https://hub.snapshot.org/graphql\"\n",
    "\n",
    "def retrieve_votes(proposal):\n",
    "    body = f\"\"\"\n",
    "    {{\n",
    "        votes(\n",
    "            first: 100,\n",
    "            where: {{\n",
    "                space_in: [\"aave.eth\"],\n",
    "                proposal: \"{proposal}\",\n",
    "                vp_gt: 1.0,\n",
    "            }},\n",
    "            orderBy: \"vp\",\n",
    "            orderDirection: desc\n",
    "        ) {{\n",
    "            voter\n",
    "            created\n",
    "            choice\n",
    "            vp\n",
    "        }}\n",
    "    }}\n",
    "    \"\"\"\n",
    "    \n",
    "    response = requests.post(url=url, json={\"query\": body})\n",
    "    \n",
    "    if response.status_code == 200:\n",
    "        return response.json().get(\"data\", {}).get(\"votes\", [])\n",
    "    else:\n",
    "        return []"
   ]
  },
  {
   "cell_type": "code",
   "execution_count": null,
   "metadata": {},
   "outputs": [],
   "source": [
    "all_votes = []\n",
    "\n",
    "for proposal in data['data']['proposals']:\n",
    "    proposal_id = proposal['id']\n",
    "    votes = retrieve_votes(proposal_id)\n",
    "    \n",
    "    all_votes.append({\n",
    "        \"proposal_id\": proposal_id,\n",
    "        \"votes\": votes\n",
    "    })\n",
    "    time.sleep(1)\n",
    "    \n",
    "with open ('../data/proposals/aave/votes.json', 'w', encoding='utf8') as outfile:\n",
    "    json.dump(all_votes, outfile, ensure_ascii=False)"
   ]
  }
 ],
 "metadata": {
  "kernelspec": {
   "display_name": ".venv",
   "language": "python",
   "name": "python3"
  },
  "language_info": {
   "codemirror_mode": {
    "name": "ipython",
    "version": 3
   },
   "file_extension": ".py",
   "mimetype": "text/x-python",
   "name": "python",
   "nbconvert_exporter": "python",
   "pygments_lexer": "ipython3",
   "version": "3.9.4"
  }
 },
 "nbformat": 4,
 "nbformat_minor": 2
}
