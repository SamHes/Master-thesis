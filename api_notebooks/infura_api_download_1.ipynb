{
 "cells": [
  {
   "cell_type": "code",
   "execution_count": 1,
   "id": "7c04340d",
   "metadata": {},
   "outputs": [],
   "source": [
    "import requests\n",
    "import time\n",
    "import csv\n",
    "import pandas as pd\n",
    "import os\n",
    "from web3 import Web3\n",
    "from dotenv import load_dotenv"
   ]
  },
  {
   "cell_type": "markdown",
   "id": "aac74a9e",
   "metadata": {},
   "source": [
    "## Mainnet"
   ]
  },
  {
   "cell_type": "code",
   "execution_count": 2,
   "id": "0fb54bd3",
   "metadata": {},
   "outputs": [],
   "source": [
    "load_dotenv()\n",
    "api_key = os.getenv('INFURA_API_KEY')\n",
    "\n",
    "infura_mainnet_url = f'https://mainnet.infura.io/v3/{api_key}'\n",
    "# infura_polygon_url = f'https://polygon-mainnet.infura.io/v3/{api_key}'\n",
    "# infura_arbitrum_url = f'https://arbitrum-mainnet.infura.io/v3/{api_key}'\n",
    "\n",
    "web3 = Web3(Web3.HTTPProvider(infura_mainnet_url))\n",
    "\n",
    "def is_contract(address):\n",
    "    code = web3.eth.get_code(Web3.to_checksum_address(address))\n",
    "    return len(code) > 2"
   ]
  },
  {
   "cell_type": "code",
   "execution_count": 3,
   "id": "b6de39c8",
   "metadata": {},
   "outputs": [],
   "source": [
    "transfers_df = pd.read_csv('../data/1_year/reduced_transfers_1_year.csv')\n",
    "\n",
    "main_tokens = ['AAVE', 'aEthWETH', 'COMP', 'cWETHv3']\n",
    "\n",
    "main_df = transfers_df[\n",
    "    transfers_df['token'].isin(main_tokens) &\n",
    "    (transfers_df['from'].str.lower() != transfers_df['to'].str.lower()) &\n",
    "    (transfers_df['value'] != 0)\n",
    "]"
   ]
  },
  {
   "cell_type": "code",
   "execution_count": null,
   "id": "76b9a1cf",
   "metadata": {},
   "outputs": [],
   "source": [
    "unique_addresses = pd.concat([main_df['from'], main_df['to']]).unique()\n",
    "\n",
    "main_slice = pd.DataFrame(unique_addresses[74500:92000], columns=['address'])\n",
    "\n",
    "for i, row in main_slice.iterrows():\n",
    "    print(i)\n",
    "    address = row['address']\n",
    "    main_slice.at[i, 'type'] = is_contract(address)\n",
    "    time.sleep(1/25)\n",
    "\n",
    "main_slice.to_csv('../data/addresses/checked_main_addresses_1.csv', index=False)"
   ]
  }
 ],
 "metadata": {
  "kernelspec": {
   "display_name": ".venv",
   "language": "python",
   "name": "python3"
  },
  "language_info": {
   "codemirror_mode": {
    "name": "ipython",
    "version": 3
   },
   "file_extension": ".py",
   "mimetype": "text/x-python",
   "name": "python",
   "nbconvert_exporter": "python",
   "pygments_lexer": "ipython3",
   "version": "3.9.4"
  }
 },
 "nbformat": 4,
 "nbformat_minor": 5
}
