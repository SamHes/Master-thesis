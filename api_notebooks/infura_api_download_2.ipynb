{
 "cells": [
  {
   "cell_type": "code",
   "execution_count": 1,
   "metadata": {},
   "outputs": [],
   "source": [
    "import requests\n",
    "import time\n",
    "import csv\n",
    "import pandas as pd\n",
    "import os\n",
    "from web3 import Web3\n",
    "from dotenv import load_dotenv"
   ]
  },
  {
   "cell_type": "code",
   "execution_count": 17,
   "metadata": {},
   "outputs": [],
   "source": [
    "load_dotenv()\n",
    "api_key = os.getenv('INFURA_API_KEY_2')\n",
    "\n",
    "infura_mainnet_url = f'https://mainnet.infura.io/v3/{api_key}'\n",
    "infura_polygon_url = f'https://polygon-mainnet.infura.io/v3/{api_key}'\n",
    "infura_base_url = f'https://base-mainnet.infura.io/v3/{api_key}'\n",
    "infura_optimism_url = f'https://optimism-mainnet.infura.io/v3/{api_key}'\n",
    "infura_arbitrum_url = f'https://arbitrum-mainnet.infura.io/v3/{api_key}'\n",
    "\n",
    "web3 = Web3(Web3.HTTPProvider(infura_polygon_url))\n",
    "\n",
    "def is_contract(address):\n",
    "    code = web3.eth.get_code(Web3.to_checksum_address(address))\n",
    "    return len(code) > 2"
   ]
  },
  {
   "cell_type": "code",
   "execution_count": 23,
   "metadata": {},
   "outputs": [],
   "source": [
    "addresses_df = pd.read_csv('../data/polygon/distinct_addresses_1_year.csv')"
   ]
  },
  {
   "cell_type": "code",
   "execution_count": 24,
   "metadata": {},
   "outputs": [],
   "source": [
    "addresses_slice = addresses_df.iloc[72615:]"
   ]
  },
  {
   "cell_type": "code",
   "execution_count": 25,
   "metadata": {},
   "outputs": [
    {
     "data": {
      "text/html": [
       "<div>\n",
       "<style scoped>\n",
       "    .dataframe tbody tr th:only-of-type {\n",
       "        vertical-align: middle;\n",
       "    }\n",
       "\n",
       "    .dataframe tbody tr th {\n",
       "        vertical-align: top;\n",
       "    }\n",
       "\n",
       "    .dataframe thead th {\n",
       "        text-align: right;\n",
       "    }\n",
       "</style>\n",
       "<table border=\"1\" class=\"dataframe\">\n",
       "  <thead>\n",
       "    <tr style=\"text-align: right;\">\n",
       "      <th></th>\n",
       "      <th>address</th>\n",
       "    </tr>\n",
       "  </thead>\n",
       "  <tbody>\n",
       "    <tr>\n",
       "      <th>2615</th>\n",
       "      <td>0x0ac89dff38c3b7eb9d0d7f1057d55f226d84bf1e</td>\n",
       "    </tr>\n",
       "    <tr>\n",
       "      <th>2616</th>\n",
       "      <td>0xdaf9ea204226d223e7afea87338bbe1628170028</td>\n",
       "    </tr>\n",
       "    <tr>\n",
       "      <th>2617</th>\n",
       "      <td>0xed21fa28f66a33a4902c914ecfaaa661f8723c1b</td>\n",
       "    </tr>\n",
       "    <tr>\n",
       "      <th>2618</th>\n",
       "      <td>0x75dd46362250b1a71fc74311f45d46c93ecabcb4</td>\n",
       "    </tr>\n",
       "    <tr>\n",
       "      <th>2619</th>\n",
       "      <td>0xfeed6ebeb28106a1be0e524996e18c92bcc06d27</td>\n",
       "    </tr>\n",
       "    <tr>\n",
       "      <th>...</th>\n",
       "      <td>...</td>\n",
       "    </tr>\n",
       "    <tr>\n",
       "      <th>6614</th>\n",
       "      <td>0x4f1ca67f3d4e113374d504c1814a4905d5dae562</td>\n",
       "    </tr>\n",
       "    <tr>\n",
       "      <th>6615</th>\n",
       "      <td>0xdcf115370aea94381764d82a0bec395c87f953f7</td>\n",
       "    </tr>\n",
       "    <tr>\n",
       "      <th>6616</th>\n",
       "      <td>0xcf8d6b2730366f9962133269f94153d3a1e7047b</td>\n",
       "    </tr>\n",
       "    <tr>\n",
       "      <th>6617</th>\n",
       "      <td>0xa71d4e0309a6bfdfdfa9433d71c368fc27dc3616</td>\n",
       "    </tr>\n",
       "    <tr>\n",
       "      <th>6618</th>\n",
       "      <td>0xac0b8956b436bf33f7a1d441a6c53a4b26895e54</td>\n",
       "    </tr>\n",
       "  </tbody>\n",
       "</table>\n",
       "<p>4004 rows × 1 columns</p>\n",
       "</div>"
      ],
      "text/plain": [
       "                                         address\n",
       "2615  0x0ac89dff38c3b7eb9d0d7f1057d55f226d84bf1e\n",
       "2616  0xdaf9ea204226d223e7afea87338bbe1628170028\n",
       "2617  0xed21fa28f66a33a4902c914ecfaaa661f8723c1b\n",
       "2618  0x75dd46362250b1a71fc74311f45d46c93ecabcb4\n",
       "2619  0xfeed6ebeb28106a1be0e524996e18c92bcc06d27\n",
       "...                                          ...\n",
       "6614  0x4f1ca67f3d4e113374d504c1814a4905d5dae562\n",
       "6615  0xdcf115370aea94381764d82a0bec395c87f953f7\n",
       "6616  0xcf8d6b2730366f9962133269f94153d3a1e7047b\n",
       "6617  0xa71d4e0309a6bfdfdfa9433d71c368fc27dc3616\n",
       "6618  0xac0b8956b436bf33f7a1d441a6c53a4b26895e54\n",
       "\n",
       "[4004 rows x 1 columns]"
      ]
     },
     "execution_count": 25,
     "metadata": {},
     "output_type": "execute_result"
    }
   ],
   "source": [
    "addresses_slice"
   ]
  },
  {
   "cell_type": "code",
   "execution_count": 22,
   "metadata": {},
   "outputs": [
    {
     "name": "stderr",
     "output_type": "stream",
     "text": [
      "C:\\Users\\Sam\\AppData\\Local\\Temp\\ipykernel_1912\\2711018789.py:1: SettingWithCopyWarning: \n",
      "A value is trying to be set on a copy of a slice from a DataFrame.\n",
      "Try using .loc[row_indexer,col_indexer] = value instead\n",
      "\n",
      "See the caveats in the documentation: https://pandas.pydata.org/pandas-docs/stable/user_guide/indexing.html#returning-a-view-versus-a-copy\n",
      "  addresses_slice['type'] = addresses_slice['address'].apply(is_contract)\n"
     ]
    }
   ],
   "source": [
    "addresses_slice['type'] = addresses_slice['address'].apply(is_contract)\n",
    "addresses_slice.to_csv('../data/polygon/checked_addresses_1_year_2.csv', index=False)"
   ]
  }
 ],
 "metadata": {
  "kernelspec": {
   "display_name": ".venv",
   "language": "python",
   "name": "python3"
  },
  "language_info": {
   "codemirror_mode": {
    "name": "ipython",
    "version": 3
   },
   "file_extension": ".py",
   "mimetype": "text/x-python",
   "name": "python",
   "nbconvert_exporter": "python",
   "pygments_lexer": "ipython3",
   "version": "3.9.4"
  }
 },
 "nbformat": 4,
 "nbformat_minor": 2
}
