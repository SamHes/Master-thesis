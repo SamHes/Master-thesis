{
 "cells": [
  {
   "cell_type": "code",
   "execution_count": 1,
   "metadata": {},
   "outputs": [],
   "source": [
    "import requests\n",
    "import time\n",
    "import csv\n",
    "import pandas as pd\n",
    "import os\n",
    "from web3 import Web3\n",
    "from dotenv import load_dotenv"
   ]
  },
  {
   "cell_type": "markdown",
   "metadata": {},
   "source": [
    "## Arbitrum"
   ]
  },
  {
   "cell_type": "code",
   "execution_count": 2,
   "metadata": {},
   "outputs": [],
   "source": [
    "load_dotenv()\n",
    "api_key = os.getenv('INFURA_API_KEY_2')\n",
    "\n",
    "# infura_mainnet_url = f'https://mainnet.infura.io/v3/{api_key}'\n",
    "# infura_polygon_url = f'https://polygon-mainnet.infura.io/v3/{api_key}'\n",
    "infura_arbitrum_url = f'https://arbitrum-mainnet.infura.io/v3/{api_key}'\n",
    "\n",
    "web3 = Web3(Web3.HTTPProvider(infura_arbitrum_url))\n",
    "\n",
    "def is_contract(address):\n",
    "    code = web3.eth.get_code(Web3.to_checksum_address(address))\n",
    "    return len(code) > 2"
   ]
  },
  {
   "cell_type": "code",
   "execution_count": 3,
   "metadata": {},
   "outputs": [],
   "source": [
    "transfers_df = pd.read_csv('../data/1_year/reduced_transfers_1_year.csv')\n",
    "\n",
    "# main_tokens = ['AAVE', 'aEthWETH', 'COMP', 'cWETHv3']\n",
    "arb_tokens = ['ArbAAVE', 'aArbWETH', 'ArbCOMP', 'cArbWETH']\n",
    "# pol_tokens = ['PolAAVE', 'aPolWETH', 'PolCOMP']\n",
    "\n",
    "# main_df = transfers_df[\n",
    "#     transfers_df['token'].isin(main_tokens) &\n",
    "#     (transfers_df['from'].str.lower() != transfers_df['to'].str.lower()) &\n",
    "#     (transfers_df['value'] != 0)\n",
    "# ]\n",
    "\n",
    "arb_df = transfers_df[\n",
    "    transfers_df['token'].isin(arb_tokens) &\n",
    "    (transfers_df['from'].str.lower() != transfers_df['to'].str.lower()) &\n",
    "    (transfers_df['value'] != 0)\n",
    "]\n",
    "\n",
    "# pol_df = transfers_df[\n",
    "#     transfers_df['token'].isin(pol_tokens) &\n",
    "#     (transfers_df['from'].str.lower() != transfers_df['to'].str.lower()) &\n",
    "#     (transfers_df['value'] != 0)\n",
    "# ]"
   ]
  },
  {
   "cell_type": "code",
   "execution_count": null,
   "metadata": {},
   "outputs": [],
   "source": [
    "unique_addresses = pd.concat([arb_df['from'], arb_df['to']]).unique()\n",
    "\n",
    "arb_slice = pd.DataFrame(unique_addresses[74000:], columns=['address'])\n",
    "\n",
    "for i, row in arb_slice.iterrows():\n",
    "    print(i)\n",
    "    address = row['address']\n",
    "    arb_slice.at[i, 'type'] = is_contract(address)\n",
    "    time.sleep(1/25)\n",
    "\n",
    "arb_slice.to_csv('../data/addresses/checked_arb_addresses_1.csv', index=False)"
   ]
  },
  {
   "cell_type": "code",
   "execution_count": null,
   "metadata": {},
   "outputs": [],
   "source": [
    "arb_slice = pd.DataFrame(unique_addresses[37000:37500], columns=['address'])\n",
    "\n",
    "for i, row in arb_slice.iterrows():\n",
    "    print(i)\n",
    "    address = row['address']\n",
    "    arb_slice.at[i, 'type'] = is_contract(address)\n",
    "    time.sleep(1/25)\n",
    "\n",
    "arb_slice.to_csv('../data/addresses/checked_arb_addresses_1.csv', index=False)"
   ]
  },
  {
   "cell_type": "code",
   "execution_count": null,
   "metadata": {},
   "outputs": [],
   "source": [
    "csv_arb = pd.read_csv('../data/addresses/checked_arb_addresses.csv')"
   ]
  },
  {
   "cell_type": "code",
   "execution_count": 14,
   "metadata": {},
   "outputs": [],
   "source": [
    "arb_tokens = ['ArbAAVE', 'aArbWETH', 'ArbCOMP', 'cArbWETH']\n",
    "\n",
    "arb_df = transfers_df[\n",
    "    transfers_df['token'].isin(arb_tokens) &\n",
    "    (transfers_df['from'].str.lower() != transfers_df['to'].str.lower()) &\n",
    "    (transfers_df['value'] != 0)\n",
    "]\n",
    "\n",
    "arb_addresses = set(arb_df['from'].unique()).union(set(arb_df['to'].unique()))"
   ]
  }
 ],
 "metadata": {
  "kernelspec": {
   "display_name": ".venv",
   "language": "python",
   "name": "python3"
  },
  "language_info": {
   "codemirror_mode": {
    "name": "ipython",
    "version": 3
   },
   "file_extension": ".py",
   "mimetype": "text/x-python",
   "name": "python",
   "nbconvert_exporter": "python",
   "pygments_lexer": "ipython3",
   "version": "3.9.4"
  }
 },
 "nbformat": 4,
 "nbformat_minor": 2
}
