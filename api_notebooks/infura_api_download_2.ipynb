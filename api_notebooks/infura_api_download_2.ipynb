{
 "cells": [
  {
   "cell_type": "code",
   "execution_count": 1,
   "metadata": {},
   "outputs": [],
   "source": [
    "import requests\n",
    "import time\n",
    "import csv\n",
    "import pandas as pd\n",
    "import os\n",
    "from web3 import Web3\n",
    "from dotenv import load_dotenv"
   ]
  },
  {
   "cell_type": "code",
   "execution_count": 2,
   "metadata": {},
   "outputs": [],
   "source": [
    "load_dotenv()\n",
    "api_key = os.getenv('INFURA_API_KEY_2')\n",
    "\n",
    "infura_mainnet_url = f'https://mainnet.infura.io/v3/{api_key}'\n",
    "infura_polygon_url = f'https://polygon-mainnet.infura.io/v3/{api_key}'\n",
    "infura_base_url = f'https://base-mainnet.infura.io/v3/{api_key}'\n",
    "infura_optimism_url = f'https://optimism-mainnet.infura.io/v3/{api_key}'\n",
    "infura_arbitrum_url = f'https://arbitrum-mainnet.infura.io/v3/{api_key}'\n",
    "\n",
    "web3 = Web3(Web3.HTTPProvider(infura_polygon_url))\n",
    "\n",
    "def is_contract(address):\n",
    "    code = web3.eth.get_code(Web3.to_checksum_address(address))\n",
    "    return len(code) > 2"
   ]
  },
  {
   "cell_type": "code",
   "execution_count": 3,
   "metadata": {},
   "outputs": [],
   "source": [
    "addresses_df = pd.read_csv('../data/polygon/distinct_addresses_1_year.csv')"
   ]
  },
  {
   "cell_type": "code",
   "execution_count": 11,
   "metadata": {},
   "outputs": [],
   "source": [
    "addresses_slice = addresses_df.iloc[56051:102615]"
   ]
  },
  {
   "cell_type": "code",
   "execution_count": 12,
   "metadata": {},
   "outputs": [
    {
     "data": {
      "text/html": [
       "<div>\n",
       "<style scoped>\n",
       "    .dataframe tbody tr th:only-of-type {\n",
       "        vertical-align: middle;\n",
       "    }\n",
       "\n",
       "    .dataframe tbody tr th {\n",
       "        vertical-align: top;\n",
       "    }\n",
       "\n",
       "    .dataframe thead th {\n",
       "        text-align: right;\n",
       "    }\n",
       "</style>\n",
       "<table border=\"1\" class=\"dataframe\">\n",
       "  <thead>\n",
       "    <tr style=\"text-align: right;\">\n",
       "      <th></th>\n",
       "      <th>address</th>\n",
       "    </tr>\n",
       "  </thead>\n",
       "  <tbody>\n",
       "    <tr>\n",
       "      <th>56051</th>\n",
       "      <td>0x7d6185364084dda3f99584be443f382a2cebd739</td>\n",
       "    </tr>\n",
       "    <tr>\n",
       "      <th>56052</th>\n",
       "      <td>0x51ca47a873a8f2b38582b6721d81996d0c26487b</td>\n",
       "    </tr>\n",
       "    <tr>\n",
       "      <th>56053</th>\n",
       "      <td>0x4e921508ea3d2607ef6c0ab7b43e1e7a86d126b1</td>\n",
       "    </tr>\n",
       "    <tr>\n",
       "      <th>56054</th>\n",
       "      <td>0xbe2b468a913fb29c8941746e6bb5f57047643660</td>\n",
       "    </tr>\n",
       "    <tr>\n",
       "      <th>56055</th>\n",
       "      <td>0x012a88121fdfce7441c6e6cf8b34687beba3f905</td>\n",
       "    </tr>\n",
       "    <tr>\n",
       "      <th>...</th>\n",
       "      <td>...</td>\n",
       "    </tr>\n",
       "    <tr>\n",
       "      <th>102610</th>\n",
       "      <td>0x04eba0a47cf4d008564739804c847b5793b6ae67</td>\n",
       "    </tr>\n",
       "    <tr>\n",
       "      <th>102611</th>\n",
       "      <td>0x9a3b7062515a293dcc54004bf5fa1031116cbbc5</td>\n",
       "    </tr>\n",
       "    <tr>\n",
       "      <th>102612</th>\n",
       "      <td>0xca3e34512194e8af4dbb24a84214616c631176e1</td>\n",
       "    </tr>\n",
       "    <tr>\n",
       "      <th>102613</th>\n",
       "      <td>0xc5266b132f29433f61f19ed6dc857a39a862d68e</td>\n",
       "    </tr>\n",
       "    <tr>\n",
       "      <th>102614</th>\n",
       "      <td>0xe065623bc9caf6160b35b5323d9fa4d38f464e3c</td>\n",
       "    </tr>\n",
       "  </tbody>\n",
       "</table>\n",
       "<p>46564 rows × 1 columns</p>\n",
       "</div>"
      ],
      "text/plain": [
       "                                           address\n",
       "56051   0x7d6185364084dda3f99584be443f382a2cebd739\n",
       "56052   0x51ca47a873a8f2b38582b6721d81996d0c26487b\n",
       "56053   0x4e921508ea3d2607ef6c0ab7b43e1e7a86d126b1\n",
       "56054   0xbe2b468a913fb29c8941746e6bb5f57047643660\n",
       "56055   0x012a88121fdfce7441c6e6cf8b34687beba3f905\n",
       "...                                            ...\n",
       "102610  0x04eba0a47cf4d008564739804c847b5793b6ae67\n",
       "102611  0x9a3b7062515a293dcc54004bf5fa1031116cbbc5\n",
       "102612  0xca3e34512194e8af4dbb24a84214616c631176e1\n",
       "102613  0xc5266b132f29433f61f19ed6dc857a39a862d68e\n",
       "102614  0xe065623bc9caf6160b35b5323d9fa4d38f464e3c\n",
       "\n",
       "[46564 rows x 1 columns]"
      ]
     },
     "execution_count": 12,
     "metadata": {},
     "output_type": "execute_result"
    }
   ],
   "source": [
    "addresses_slice"
   ]
  },
  {
   "cell_type": "code",
   "execution_count": null,
   "metadata": {},
   "outputs": [],
   "source": [
    "for i, row in addresses_slice.iterrows():\n",
    "    print(i)\n",
    "    address = row['address']\n",
    "    type = is_contract(address)\n",
    "    addresses_slice.at[i, 'type'] = type\n",
    "    time.sleep(1/25)"
   ]
  },
  {
   "cell_type": "code",
   "execution_count": 15,
   "metadata": {},
   "outputs": [],
   "source": [
    "# addresses_slice['type'] = addresses_slice['address'].apply(is_contract)\n",
    "addresses_slice.to_csv('../data/polygon/checked_addresses_1_year_2.csv', index=False)"
   ]
  }
 ],
 "metadata": {
  "kernelspec": {
   "display_name": ".venv",
   "language": "python",
   "name": "python3"
  },
  "language_info": {
   "codemirror_mode": {
    "name": "ipython",
    "version": 3
   },
   "file_extension": ".py",
   "mimetype": "text/x-python",
   "name": "python",
   "nbconvert_exporter": "python",
   "pygments_lexer": "ipython3",
   "version": "3.9.4"
  }
 },
 "nbformat": 4,
 "nbformat_minor": 2
}
