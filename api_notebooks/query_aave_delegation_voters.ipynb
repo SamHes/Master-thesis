{
 "cells": [
  {
   "cell_type": "code",
   "execution_count": 10,
   "metadata": {},
   "outputs": [],
   "source": [
    "import requests\n",
    "import json\n",
    "import time\n",
    "import os\n",
    "from dotenv import load_dotenv\n",
    "from web3 import Web3\n",
    "from web3.datastructures import AttributeDict\n",
    "from hexbytes import HexBytes"
   ]
  },
  {
   "cell_type": "code",
   "execution_count": 2,
   "metadata": {},
   "outputs": [],
   "source": [
    "load_dotenv()\n",
    "the_graph_api_key = os.getenv('THE_GRAPH_API_KEY')\n",
    "infura_api_key = os.getenv('INFURA_API_KEY')\n",
    "\n",
    "aave_url = f\"https://gateway.thegraph.com/api/{the_graph_api_key}/subgraphs/id/8EBbn3tNayccBZrnW9ae6Q4NLHfVEcozvkB3YAp5Qatr\"\n",
    "infura_mainnet_url = f'https://mainnet.infura.io/v3/{infura_api_key}'\n",
    "\n",
    "web3 = Web3(Web3.HTTPProvider(infura_mainnet_url))"
   ]
  },
  {
   "cell_type": "code",
   "execution_count": null,
   "metadata": {},
   "outputs": [],
   "source": [
    "logs = web3.eth.get_logs({\n",
    "    'fromBlock': 17000001,\n",
    "    'toBlock': 21336719,\n",
    "    'topics': [\n",
    "        '0xe8d51c8e11bd570db1734c8ec775785330e77007feed45c43b608ef33ff914bd'\n",
    "    ]\n",
    "})"
   ]
  },
  {
   "cell_type": "code",
   "execution_count": null,
   "metadata": {},
   "outputs": [],
   "source": [
    "def convert_to_serializable(obj):\n",
    "    if isinstance(obj, AttributeDict):\n",
    "        return {k: convert_to_serializable(v) for k, v in obj.items()}\n",
    "    elif isinstance(obj, HexBytes):\n",
    "        return obj.hex()\n",
    "    elif isinstance(obj, list):\n",
    "        return [convert_to_serializable(i) for i in obj]\n",
    "    else:\n",
    "        return obj\n",
    "\n",
    "delegations = [convert_to_serializable(log) for log in logs]"
   ]
  },
  {
   "cell_type": "code",
   "execution_count": null,
   "metadata": {},
   "outputs": [],
   "source": [
    "delegations = sorted(delegations, key=lambda x: x['blockNumber'], reverse=True)\n",
    "\n",
    "fields_to_remove = ['blockHash', 'logIndex', 'removed', 'transactionHash', 'transactionIndex']\n",
    "\n",
    "for delegation in delegations:\n",
    "    for field in fields_to_remove:\n",
    "        delegation.pop(field, None)\n",
    "        \n",
    "def decode_hex(hex_string):\n",
    "    return web3.to_int(hexstr=hex_string)\n",
    "\n",
    "for delegation in delegations:\n",
    "    delegation['type'] = decode_hex(delegation['data'])\n",
    "    delegation['from'] = web3.to_checksum_address('0x' + delegation['topics'][1][-40:])\n",
    "    delegation['to'] = web3.to_checksum_address('0x' + delegation['topics'][2][-40:])\n",
    "    delegation.pop('data')\n",
    "    delegation.pop('topics')"
   ]
  },
  {
   "cell_type": "code",
   "execution_count": 58,
   "metadata": {},
   "outputs": [],
   "source": [
    "addresses = ['0xA700b4eB416Be35b2911fd5Dee80678ff64fF6C9', '0x4da27a545c0c5B758a6BA100e3a049001de870f5', '0x7Fc66500c84A76Ad7e9c93437bFc5Ac33E2DDaE9', '0xa1116930326D21fB917d5A27F1E9943A9595fb47']\n",
    "filtered_delegations = [entry for entry in delegations if entry['address'] in addresses]"
   ]
  },
  {
   "cell_type": "code",
   "execution_count": null,
   "metadata": {},
   "outputs": [],
   "source": [
    "web3.eth.get_block(filtered_delegations[0]['blockNumber'])['timestamp']\n",
    "\n",
    "for entry in filtered_delegations:\n",
    "    entry['timestamp'] = web3.eth.get_block(entry['blockNumber'])['timestamp']"
   ]
  },
  {
   "cell_type": "code",
   "execution_count": 67,
   "metadata": {},
   "outputs": [],
   "source": [
    "for entry in filtered_delegations:\n",
    "    entry.pop('blockNumber')"
   ]
  },
  {
   "cell_type": "code",
   "execution_count": 68,
   "metadata": {},
   "outputs": [],
   "source": [
    "with open('../data/proposals/aave/aave_2.json', 'w') as f:\n",
    "    json.dump(filtered_delegations, f, indent=4)"
   ]
  },
  {
   "cell_type": "code",
   "execution_count": 6,
   "metadata": {},
   "outputs": [],
   "source": [
    "def retrieve_delegations():\n",
    "    skip = 0\n",
    "    all_data = []\n",
    "    \n",
    "    while True:\n",
    "        body = f\"\"\"\n",
    "        {{\n",
    "            delegateChanges(\n",
    "                orderBy: blockTimestamp\n",
    "                orderDirection: desc\n",
    "                first: 1000\n",
    "                skip: {skip}\n",
    "            ) {{\n",
    "            tokenAddress\n",
    "            delegator\n",
    "            delegate\n",
    "            blockTimestamp\n",
    "            }}\n",
    "        }}\n",
    "        \"\"\"\n",
    "\n",
    "        response = requests.post(url=aave_url, json={\"query\": body})\n",
    "        \n",
    "        if response.status_code != 200:\n",
    "            raise Exception(f\"Query failed with {response.status_code}: {response.text}\")\n",
    "        \n",
    "        data = response.json().get(\"data\", {}).get(\"delegateChanges\", [])\n",
    "        \n",
    "        if not data:\n",
    "            break\n",
    "        \n",
    "        all_data.extend(data)\n",
    "        skip += 1000\n",
    "        \n",
    "    with open(f'../data/proposals/aave/aave_delegations.json', 'w', encoding='utf8') as outfile:\n",
    "        json.dump(all_data, outfile, ensure_ascii=False, indent=4)\n",
    "    "
   ]
  },
  {
   "cell_type": "code",
   "execution_count": 7,
   "metadata": {},
   "outputs": [],
   "source": [
    "retrieve_delegations()"
   ]
  },
  {
   "cell_type": "code",
   "execution_count": 6,
   "metadata": {},
   "outputs": [],
   "source": [
    "def retrieve_votes(proposal):\n",
    "    body = f\"\"\"\n",
    "    {{\n",
    "        votes(\n",
    "            orderBy: weight\n",
    "            orderDirection: desc\n",
    "            first: 1000\n",
    "            where: {{\n",
    "                proposal_: {{\n",
    "                    id: \"{proposal}\"\n",
    "                }}\n",
    "            }}\n",
    "        ) {{\n",
    "        choice\n",
    "        id\n",
    "        weight\n",
    "        }}\n",
    "    }}\n",
    "    \"\"\"\n",
    "\n",
    "    response = requests.post(url=aave_url, json={\"query\": body})\n",
    "    \n",
    "    if response.status_code == 200:\n",
    "        return response.json().get(\"data\", {}).get(\"votes\", [])\n",
    "    else:\n",
    "        return []"
   ]
  },
  {
   "cell_type": "code",
   "execution_count": 7,
   "metadata": {},
   "outputs": [],
   "source": [
    "with open ('../data/proposals/aave/aave_v2_on_chain_proposals_1_year.json', 'r', encoding='utf8') as file:\n",
    "    aave_v2_proposals = json.load(file)['data']['proposals']"
   ]
  },
  {
   "cell_type": "code",
   "execution_count": 8,
   "metadata": {},
   "outputs": [],
   "source": [
    "all_votes = []\n",
    "\n",
    "for proposal in aave_v2_proposals:\n",
    "    proposal_id = proposal['id']\n",
    "    votes = retrieve_votes(proposal_id)\n",
    "    \n",
    "    all_votes.append({\n",
    "        \"proposal_id\": proposal_id,\n",
    "        \"votes\": votes\n",
    "    })\n",
    "    time.sleep(1)\n",
    "    \n",
    "with open ('../data/proposals/aave/aave_v2_on_chain_votes_1.json', 'w', encoding='utf8') as outfile:\n",
    "    json.dump(all_votes, outfile, ensure_ascii=False)"
   ]
  }
 ],
 "metadata": {
  "kernelspec": {
   "display_name": ".venv",
   "language": "python",
   "name": "python3"
  },
  "language_info": {
   "codemirror_mode": {
    "name": "ipython",
    "version": 3
   },
   "file_extension": ".py",
   "mimetype": "text/x-python",
   "name": "python",
   "nbconvert_exporter": "python",
   "pygments_lexer": "ipython3",
   "version": "3.9.4"
  }
 },
 "nbformat": 4,
 "nbformat_minor": 2
}
