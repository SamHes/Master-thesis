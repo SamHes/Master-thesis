{
 "cells": [
  {
   "cell_type": "code",
   "execution_count": 1,
   "metadata": {},
   "outputs": [],
   "source": [
    "import requests\n",
    "import json\n",
    "import time\n",
    "import os\n",
    "from dotenv import load_dotenv"
   ]
  },
  {
   "cell_type": "code",
   "execution_count": 3,
   "metadata": {},
   "outputs": [],
   "source": [
    "load_dotenv()\n",
    "api_key = os.getenv('THE_GRAPH_API_KEY')\n",
    "\n",
    "url = f\"https://gateway.thegraph.com/api/{api_key}/subgraphs/id/7nuSuPhUgKSg5uKRh8g5jyjZWE8DnvQw1mQtvDWpxrnh\"\n",
    "\n",
    "def retrieve_proposals():\n",
    "    body = f\"\"\"\n",
    "    {{\n",
    "        proposals(\n",
    "            first: 1,\n",
    "            orderBy: creationTime,\n",
    "            orderDirection: desc\n",
    "        ) {{\n",
    "            id\n",
    "            creationTime\n",
    "            abstainDelegateVotes\n",
    "            abstainWeightedVotes\n",
    "            againstDelegateVotes\n",
    "            againstWeightedVotes\n",
    "            executionTime\n",
    "            description\n",
    "            forDelegateVotes\n",
    "            forWeightedVotes\n",
    "            proposer {{\n",
    "              id\n",
    "            }}\n",
    "            quorumVotes\n",
    "            state\n",
    "            totalDelegateVotes\n",
    "            totalWeightedVotes\n",
    "        }}\n",
    "    }}\n",
    "    \"\"\"\n",
    "    \n",
    "    response = requests.post(url=url, json={\"query\": body})\n",
    "    \n",
    "    if response.status_code == 200:\n",
    "        return response.json()\n",
    "    else:\n",
    "        return []"
   ]
  },
  {
   "cell_type": "code",
   "execution_count": null,
   "metadata": {},
   "outputs": [],
   "source": [
    "with open('../data/proposals/compound/compound_proposals.json', 'w', encoding=\"utf8\") as outfile:\n",
    "    json.dump(retrieve_proposals(), outfile, ensure_ascii=False)"
   ]
  },
  {
   "cell_type": "code",
   "execution_count": 6,
   "metadata": {},
   "outputs": [],
   "source": [
    "with open('../data/proposals/compound/compound_proposals_1_year.json', 'r', encoding=\"utf8\") as file:\n",
    "    data = json.load(file)"
   ]
  },
  {
   "cell_type": "code",
   "execution_count": 9,
   "metadata": {},
   "outputs": [],
   "source": [
    "url = f\"https://gateway.thegraph.com/api/{api_key}/subgraphs/id/7nuSuPhUgKSg5uKRh8g5jyjZWE8DnvQw1mQtvDWpxrnh\"\n",
    "\n",
    "def retrieve_votes(proposal):\n",
    "    body = f\"\"\"\n",
    "    {{\n",
    "        votes(\n",
    "            where: {{\n",
    "                proposal: \"{proposal}\",\n",
    "            }},\n",
    "            first: 1000,\n",
    "            orderBy: weight,\n",
    "            orderDirection: desc\n",
    "        ) {{\n",
    "            voter{{\n",
    "                id\n",
    "            }}\n",
    "            choice\n",
    "            weight\n",
    "        }}\n",
    "    }}\n",
    "    \"\"\"\n",
    "    \n",
    "    response = requests.post(url=url, json={\"query\": body})\n",
    "    \n",
    "    if response.status_code == 200:\n",
    "        return response.json().get(\"data\", {}).get(\"votes\", [])\n",
    "    else:\n",
    "        return []"
   ]
  },
  {
   "cell_type": "code",
   "execution_count": null,
   "metadata": {},
   "outputs": [],
   "source": [
    "all_votes = []\n",
    "\n",
    "for proposal in data['data']['proposals']:\n",
    "    proposal_id = proposal['id']\n",
    "    votes = retrieve_votes(proposal_id)\n",
    "    \n",
    "    all_votes.append({\n",
    "        \"proposal_id\": proposal_id,\n",
    "        \"votes\": votes\n",
    "    })\n",
    "    \n",
    "with open('../data/proposals/compound/compound_votes_1_year.json', 'w', encoding='utf8') as outfile:\n",
    "    json.dump(all_votes, outfile, ensure_ascii=False)"
   ]
  }
 ],
 "metadata": {
  "kernelspec": {
   "display_name": ".venv",
   "language": "python",
   "name": "python3"
  },
  "language_info": {
   "codemirror_mode": {
    "name": "ipython",
    "version": 3
   },
   "file_extension": ".py",
   "mimetype": "text/x-python",
   "name": "python",
   "nbconvert_exporter": "python",
   "pygments_lexer": "ipython3",
   "version": "3.9.4"
  }
 },
 "nbformat": 4,
 "nbformat_minor": 2
}
