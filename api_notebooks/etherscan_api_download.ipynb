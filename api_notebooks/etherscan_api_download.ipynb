{
 "cells": [
  {
   "cell_type": "code",
   "execution_count": 1,
   "metadata": {},
   "outputs": [],
   "source": [
    "import requests\n",
    "import time\n",
    "import csv\n",
    "import pandas as pd\n",
    "import os\n",
    "from dotenv import load_dotenv"
   ]
  },
  {
   "cell_type": "code",
   "execution_count": 12,
   "metadata": {},
   "outputs": [],
   "source": [
    "load_dotenv()\n",
    "api_key = os.getenv('ETHERSCAN_API_KEY')\n",
    "eth_chain_id = 1\n",
    "arb_chain_id = 42161\n",
    "bas_chain_id = 8453\n",
    "opt_chain_id = 10\n",
    "pol_chain_id = 137\n",
    "\n",
    "def get_transfers_in_block_range(start_block, end_block, contract_address, chain_id):\n",
    "    transfers = []\n",
    "    url = f\"https://api.etherscan.io/v2/api?chainid={chain_id}\"\n",
    "    \n",
    "    params = {\n",
    "        \"module\": \"account\",\n",
    "        \"action\": \"tokentx\",\n",
    "        \"contractaddress\": contract_address,\n",
    "        \"startBlock\": start_block,\n",
    "        \"endBlock\": end_block,\n",
    "        \"sort\": \"asc\",\n",
    "        \"apikey\": api_key\n",
    "    }\n",
    "    \n",
    "    response = requests.get(url, params=params)\n",
    "    print(response.json())\n",
    "    data = response.json()\n",
    "    \n",
    "    if 'result' in data:\n",
    "        for transfer in data['result']:\n",
    "            transfer_info = {\n",
    "                'timestamp': transfer['timeStamp'],\n",
    "                'value': transfer['value'],\n",
    "                'from': transfer['from'],\n",
    "                'to': transfer['to']\n",
    "            }\n",
    "            transfers.append(transfer_info)\n",
    "    \n",
    "    return transfers"
   ]
  },
  {
   "cell_type": "code",
   "execution_count": null,
   "metadata": {},
   "outputs": [],
   "source": [
    "get_transfers_in_block_range(0, 100, )"
   ]
  },
  {
   "cell_type": "code",
   "execution_count": 3,
   "metadata": {},
   "outputs": [],
   "source": [
    "def save_transfers_to_csv(transfers, filename):\n",
    "    print(\"Saving\")\n",
    "    keys = transfers[0].keys()\n",
    "    with open(filename, 'w', newline='') as output_file:\n",
    "        dict_writer = csv.DictWriter(output_file, fieldnames=keys)\n",
    "        dict_writer.writeheader()\n",
    "        dict_writer.writerows(transfers)"
   ]
  },
  {
   "cell_type": "code",
   "execution_count": 4,
   "metadata": {},
   "outputs": [],
   "source": [
    "def get_all_transfers_in_chunks(start_block, end_block, contract_address, block_chunk_size=10000):\n",
    "    all_transfers = []\n",
    "    current_block = start_block\n",
    "    \n",
    "    while current_block < end_block:\n",
    "        next_block = min(current_block + block_chunk_size, end_block)\n",
    "        print(f\"Querying transfers from block {current_block} to {next_block}...\")\n",
    "        \n",
    "        transfers = get_transfers_in_block_range(current_block, next_block, contract_address)\n",
    "        all_transfers.extend(transfers)\n",
    "        \n",
    "        current_block = next_block + 1\n",
    "    \n",
    "    return all_transfers"
   ]
  },
  {
   "cell_type": "code",
   "execution_count": null,
   "metadata": {},
   "outputs": [],
   "source": [
    "# transfers = get_all_transfers_in_chunks(15412117, 20866918, \"0x3Afdc9BCA9213A35503b077a6072F3D0d5AB0840\", block_chunk_size=1000000)\n",
    "transfers = get_transfers_in_block_range(15412117, 20866918, \"0xA17581A9E3356d9A858b789D68B4d866e593aE94\", eth_chain_id)\n",
    "# save_transfers_to_csv(transfers, \"cWETHv3.csv\")"
   ]
  },
  {
   "cell_type": "code",
   "execution_count": null,
   "metadata": {},
   "outputs": [],
   "source": [
    "# folder_path = '../data/base'\n",
    "\n",
    "# all_addresses = set()\n",
    "\n",
    "# for filename in os.listdir(folder_path):\n",
    "#     if filename.endswith('.csv') and filename != 'distinct_addresses.csv':\n",
    "#         file_path = os.path.join(folder_path, filename)\n",
    "#         df = pd.read_csv(file_path)\n",
    "        \n",
    "#         df = df[df['timestamp'] > 1696118399]\n",
    "\n",
    "#         all_addresses.update(df['from'].unique())\n",
    "#         all_addresses.update(df['to'].unique())\n",
    "\n",
    "# distinct_addresses_df = pd.DataFrame(list(all_addresses), columns=['address'])\n",
    "\n",
    "# distinct_addresses_df.to_csv('../data/base/distinct_addresses_1_year.csv', index=False)"
   ]
  }
 ],
 "metadata": {
  "kernelspec": {
   "display_name": ".venv",
   "language": "python",
   "name": "python3"
  },
  "language_info": {
   "codemirror_mode": {
    "name": "ipython",
    "version": 3
   },
   "file_extension": ".py",
   "mimetype": "text/x-python",
   "name": "python",
   "nbconvert_exporter": "python",
   "pygments_lexer": "ipython3",
   "version": "3.9.4"
  }
 },
 "nbformat": 4,
 "nbformat_minor": 2
}
