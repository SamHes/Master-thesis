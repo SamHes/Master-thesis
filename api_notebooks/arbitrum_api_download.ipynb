{
 "cells": [
  {
   "cell_type": "code",
   "execution_count": 2,
   "metadata": {},
   "outputs": [],
   "source": [
    "import requests\n",
    "import time\n",
    "import csv\n",
    "import pandas as pd\n",
    "import os\n",
    "from dotenv import load_dotenv"
   ]
  },
  {
   "cell_type": "code",
   "execution_count": 1,
   "metadata": {},
   "outputs": [],
   "source": [
    "load_dotenv()\n",
    "api_key = os.getenv('ARBISCAN_API_KEY')\n",
    "\n",
    "def get_transfers_in_block_range(start_block, end_block, contract_address):\n",
    "    transfers = []\n",
    "    url = f\"https://api.arbiscan.io/api\"\n",
    "    \n",
    "    params = {\n",
    "        \"module\": \"account\",\n",
    "        \"action\": \"tokentx\",\n",
    "        \"contractaddress\": contract_address,\n",
    "        \"startBlock\": start_block,\n",
    "        \"endBlock\": end_block,\n",
    "        \"sort\": \"asc\",\n",
    "        \"apikey\": api_key\n",
    "    }\n",
    "    \n",
    "    response = requests.get(url, params=params)\n",
    "    data = response.json()\n",
    "    \n",
    "    if 'result' in data:\n",
    "        for transfer in data['result']:\n",
    "            transfer_info = {\n",
    "                'timestamp': transfer['timeStamp'],\n",
    "                'value': transfer['value'],\n",
    "                'from': transfer['from'],\n",
    "                'to': transfer['to']\n",
    "            }\n",
    "            transfers.append(transfer_info)\n",
    "    \n",
    "    return transfers\n",
    "\n",
    "def save_transfers_to_csv(transfers, filename):\n",
    "    print(\"Saving\")\n",
    "    keys = transfers[0].keys()\n",
    "    with open(filename, 'w', newline='') as output_file:\n",
    "        dict_writer = csv.DictWriter(output_file, fieldnames=keys)\n",
    "        dict_writer.writeheader()\n",
    "        dict_writer.writerows(transfers)\n",
    "        \n",
    "def get_all_transfers_in_chunks(start_block, end_block, contract_address, block_chunk_size=10000):\n",
    "    all_transfers = []\n",
    "    current_block = start_block\n",
    "    \n",
    "    while current_block < end_block:\n",
    "        next_block = min(current_block + block_chunk_size, end_block)\n",
    "        print(f\"Querying transfers from block {current_block} to {next_block}...\")\n",
    "        \n",
    "        transfers = get_transfers_in_block_range(current_block, next_block, contract_address)\n",
    "        all_transfers.extend(transfers)\n",
    "        \n",
    "        current_block = next_block + 1\n",
    "        \n",
    "        time.sleep(0.2)\n",
    "    \n",
    "    return all_transfers"
   ]
  },
  {
   "cell_type": "code",
   "execution_count": null,
   "metadata": {},
   "outputs": [],
   "source": [
    "transfers = get_all_transfers_in_chunks(127151615, 259085543, \"0x9c4ec768c28520B50860ea7a15bd7213a9fF58bf\", block_chunk_size=500000)\n",
    "# transfers = get_transfers_in_block_range(21304174, 259085543, \"0xf329e36C7bF6E5E86ce2150875a84Ce77f477375\")\n",
    "save_transfers_to_csv(transfers, \"../data/arbitrum/cArbUSDC.csv\")"
   ]
  },
  {
   "cell_type": "code",
   "execution_count": 3,
   "metadata": {},
   "outputs": [],
   "source": [
    "folder_path = '../data/arbitrum'\n",
    "\n",
    "all_addresses = set()\n",
    "\n",
    "for filename in os.listdir(folder_path):\n",
    "    if filename.endswith('.csv') and filename != 'distinct_addresses.csv':\n",
    "        file_path = os.path.join(folder_path, filename)\n",
    "        df = pd.read_csv(file_path)\n",
    "        \n",
    "        df = df[df['timestamp'] > 1696118399]\n",
    "\n",
    "        all_addresses.update(df['from'].unique())\n",
    "        all_addresses.update(df['to'].unique())\n",
    "\n",
    "distinct_addresses_df = pd.DataFrame(list(all_addresses), columns=['address'])\n",
    "\n",
    "distinct_addresses_df.to_csv('../data/arbitrum/distinct_addresses_1_year.csv', index=False)"
   ]
  }
 ],
 "metadata": {
  "kernelspec": {
   "display_name": ".venv",
   "language": "python",
   "name": "python3"
  },
  "language_info": {
   "codemirror_mode": {
    "name": "ipython",
    "version": 3
   },
   "file_extension": ".py",
   "mimetype": "text/x-python",
   "name": "python",
   "nbconvert_exporter": "python",
   "pygments_lexer": "ipython3",
   "version": "3.9.4"
  }
 },
 "nbformat": 4,
 "nbformat_minor": 2
}
