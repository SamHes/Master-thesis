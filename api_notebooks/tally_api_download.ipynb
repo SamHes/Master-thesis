{
 "cells": [
  {
   "cell_type": "code",
   "execution_count": 21,
   "id": "891040d0",
   "metadata": {},
   "outputs": [],
   "source": [
    "import requests\n",
    "import json\n",
    "import os\n",
    "from dotenv import load_dotenv"
   ]
  },
  {
   "cell_type": "code",
   "execution_count": 2,
   "id": "5daf62b3",
   "metadata": {},
   "outputs": [],
   "source": [
    "load_dotenv()\n",
    "api_key = os.getenv('TALLY_API_KEY')\n",
    "\n",
    "url = f'https://api.tally.xyz/query'\n",
    "\n",
    "headers = {\n",
    "    \"Content-Type\": \"application/json\",\n",
    "    \"Api-Key\": api_key\n",
    "}"
   ]
  },
  {
   "cell_type": "code",
   "execution_count": null,
   "id": "e1994d8c",
   "metadata": {},
   "outputs": [],
   "source": [
    "query = \"\"\"\n",
    "query Proposals($input: ProposalsInput!) {\n",
    "  proposals(input: $input) {\n",
    "    nodes {\n",
    "      ... on Proposal {\n",
    "        onchainId\n",
    "        creator {\n",
    "          address\n",
    "          type\n",
    "        }\n",
    "        metadata {\n",
    "          title\n",
    "          description\n",
    "        }\n",
    "        # proposer {\n",
    "        #   address\n",
    "        # }\n",
    "        status\n",
    "      }\n",
    "    }\n",
    "    pageInfo {\n",
    "      count\n",
    "      firstCursor\n",
    "      lastCursor\n",
    "    }\n",
    "  }\n",
    "}\n",
    "\"\"\"\n",
    "\n",
    "variables = {\n",
    "    \"input\": {\n",
    "        \"filters\": {\n",
    "          \"organizationId\": 2206072049829414624\n",
    "        }\n",
    "    }\n",
    "}"
   ]
  },
  {
   "cell_type": "code",
   "execution_count": null,
   "id": "b562b027",
   "metadata": {},
   "outputs": [],
   "source": [
    "all_proposals = []\n",
    "after_cursor = None\n",
    "has_more = True\n",
    "\n",
    "while has_more and len(all_proposals) < 100:\n",
    "    page_input = {\n",
    "        \"limit\": 20\n",
    "    }\n",
    "    if after_cursor:\n",
    "        page_input[\"afterCursor\"] = after_cursor\n",
    "        \n",
    "    variables['input']['page'] = page_input\n",
    "    \n",
    "    response = requests.post(url, headers=headers, json={\"query\": query, \"variables\": variables})\n",
    "    data = response.json()\n",
    "\n",
    "    proposals = data[\"data\"][\"proposals\"][\"nodes\"]\n",
    "    all_proposals.extend(proposals)\n",
    "\n",
    "    page_info = data[\"data\"][\"proposals\"][\"pageInfo\"]\n",
    "    after_cursor = page_info[\"lastCursor\"]\n",
    "    has_more = len(proposals) > 0 and after_cursor is not None"
   ]
  },
  {
   "cell_type": "code",
   "execution_count": 23,
   "id": "4fa2121b",
   "metadata": {},
   "outputs": [],
   "source": [
    "with open('../data/proposals/aave/aave_v2_tally_proposals.json', 'w', encoding='utf8') as f:\n",
    "    json.dump(all_proposals, f, ensure_ascii=False, indent=4)"
   ]
  },
  {
   "cell_type": "code",
   "execution_count": null,
   "id": "4592dad7",
   "metadata": {},
   "outputs": [],
   "source": [
    "query = \"\"\"\n",
    "query Organizations($input: OrganizationsInput) {\n",
    "  organizations(input: $input) {\n",
    "    nodes {\n",
    "      ... on Organization {\n",
    "        id\n",
    "        name\n",
    "        slug\n",
    "        chainIds\n",
    "      }\n",
    "    }\n",
    "    pageInfo {\n",
    "      count\n",
    "    }\n",
    "  }\n",
    "}\n",
    "\"\"\"\n",
    "\n",
    "variables = {\n",
    "    \"input\": {\n",
    "        \"filters\": {\n",
    "            \"chainId\": \"eip155:1\"\n",
    "        }\n",
    "    }\n",
    "}\n",
    "\n",
    "response = requests.post(url, headers=headers, json={\"query\": query, \"variables\": variables})\n",
    "data = response.json()"
   ]
  },
  {
   "cell_type": "code",
   "execution_count": 36,
   "id": "4c8204cb",
   "metadata": {},
   "outputs": [],
   "source": [
    "with open('../data/proposals/aave/aave_v2_on_chain_proposals_1_year.json', 'r', encoding=\"utf8\") as file:\n",
    "    v2_proposals = json.load(file)['data']['proposals']"
   ]
  },
  {
   "cell_type": "code",
   "execution_count": null,
   "id": "ba598a5b",
   "metadata": {},
   "outputs": [],
   "source": [
    "id_to_metadata = {proposal['onchainId']: proposal['metadata'] for proposal in all_proposals if 'onchainId' in proposal and 'metadata' in proposal}\n",
    "\n",
    "for entry in v2_proposals:\n",
    "    if entry['id'] in id_to_metadata:\n",
    "        metadata = id_to_metadata[entry['id']]\n",
    "        entry['title'] = metadata.get('title', '')\n",
    "        entry['description'] = metadata.get('description', '')\n"
   ]
  },
  {
   "cell_type": "code",
   "execution_count": 40,
   "id": "e8603491",
   "metadata": {},
   "outputs": [],
   "source": [
    "with open('../data/proposals/aave/aave_v2_on_chain_proposals_1_year.json', 'w', encoding='utf8') as f:\n",
    "    json.dump(v2_proposals, f, ensure_ascii=False, indent=4)"
   ]
  }
 ],
 "metadata": {
  "kernelspec": {
   "display_name": ".venv",
   "language": "python",
   "name": "python3"
  },
  "language_info": {
   "codemirror_mode": {
    "name": "ipython",
    "version": 3
   },
   "file_extension": ".py",
   "mimetype": "text/x-python",
   "name": "python",
   "nbconvert_exporter": "python",
   "pygments_lexer": "ipython3",
   "version": "3.9.4"
  }
 },
 "nbformat": 4,
 "nbformat_minor": 5
}
