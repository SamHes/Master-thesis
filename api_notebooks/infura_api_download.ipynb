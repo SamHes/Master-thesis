{
 "cells": [
  {
   "cell_type": "code",
   "execution_count": 1,
   "metadata": {},
   "outputs": [],
   "source": [
    "import requests\n",
    "import time\n",
    "import csv\n",
    "import pandas as pd\n",
    "import os\n",
    "from web3 import Web3\n",
    "from dotenv import load_dotenv"
   ]
  },
  {
   "cell_type": "code",
   "execution_count": 2,
   "metadata": {},
   "outputs": [],
   "source": [
    "load_dotenv()\n",
    "api_key = os.getenv('INFURA_API_KEY')\n",
    "\n",
    "infura_mainnet_url = f'https://mainnet.infura.io/v3/{api_key}'\n",
    "infura_polygon_url = f'https://polygon-mainnet.infura.io/v3/{api_key}'\n",
    "infura_base_url = f'https://base-mainnet.infura.io/v3/{api_key}'\n",
    "infura_optimism_url = f'https://optimism-mainnet.infura.io/v3/{api_key}'\n",
    "infura_arbitrum_url = f'https://arbitrum-mainnet.infura.io/v3/{api_key}'\n",
    "\n",
    "web3 = Web3(Web3.HTTPProvider(infura_polygon_url))\n",
    "\n",
    "def is_contract(address):\n",
    "    code = web3.eth.get_code(Web3.to_checksum_address(address))\n",
    "    return len(code) > 2"
   ]
  },
  {
   "cell_type": "code",
   "execution_count": 15,
   "metadata": {},
   "outputs": [],
   "source": [
    "all_addresses = set()\n",
    "file_path = '../data/combined_transfers_1_year.csv'\n",
    "\n",
    "df = pd.read_csv(file_path)\n",
    "\n",
    "all_addresses.update(df['from'].unique())\n",
    "all_addresses.update(df['to'].unique())\n",
    "\n",
    "distinct_addresses_df = pd.DataFrame(list(all_addresses), columns=['address'])\n",
    "\n",
    "distinct_addresses_df.to_csv('../data/distinct_addresses_1_year.csv', index=False)"
   ]
  },
  {
   "cell_type": "code",
   "execution_count": 16,
   "metadata": {},
   "outputs": [],
   "source": [
    "df1 = pd.read_csv('../data/distinct_addresses_1_year.csv')\n",
    "\n",
    "df2 = pd.read_csv('../data/node_table.csv')\n",
    "\n",
    "filtered_df = df1[~df1['address'].isin(df2['address'])]\n",
    "\n",
    "filtered_df.to_csv('../data/addresses_to_check_1_year.csv', index=False)"
   ]
  },
  {
   "cell_type": "code",
   "execution_count": 3,
   "metadata": {},
   "outputs": [],
   "source": [
    "addresses_df = pd.read_csv('../data/polygon/distinct_addresses_1_year.csv')"
   ]
  },
  {
   "cell_type": "code",
   "execution_count": 12,
   "metadata": {},
   "outputs": [],
   "source": [
    "addresses_slice = addresses_df.iloc[10844:52615]"
   ]
  },
  {
   "cell_type": "code",
   "execution_count": 13,
   "metadata": {},
   "outputs": [
    {
     "data": {
      "text/html": [
       "<div>\n",
       "<style scoped>\n",
       "    .dataframe tbody tr th:only-of-type {\n",
       "        vertical-align: middle;\n",
       "    }\n",
       "\n",
       "    .dataframe tbody tr th {\n",
       "        vertical-align: top;\n",
       "    }\n",
       "\n",
       "    .dataframe thead th {\n",
       "        text-align: right;\n",
       "    }\n",
       "</style>\n",
       "<table border=\"1\" class=\"dataframe\">\n",
       "  <thead>\n",
       "    <tr style=\"text-align: right;\">\n",
       "      <th></th>\n",
       "      <th>address</th>\n",
       "    </tr>\n",
       "  </thead>\n",
       "  <tbody>\n",
       "    <tr>\n",
       "      <th>10844</th>\n",
       "      <td>0xafd55fcaeb7a8e6671dfd77a612860ae25bb1bdb</td>\n",
       "    </tr>\n",
       "    <tr>\n",
       "      <th>10845</th>\n",
       "      <td>0xa9233658adb2fdea68d2e181306209e8e57acea0</td>\n",
       "    </tr>\n",
       "    <tr>\n",
       "      <th>10846</th>\n",
       "      <td>0xd863b4487924189c7ba32b567a9e7f7fe7a76d58</td>\n",
       "    </tr>\n",
       "    <tr>\n",
       "      <th>10847</th>\n",
       "      <td>0x5751a4548842e307d221c1d53e11971c8d643e1a</td>\n",
       "    </tr>\n",
       "    <tr>\n",
       "      <th>10848</th>\n",
       "      <td>0xeaed99036f369a2311fc7792592a33ce32a15166</td>\n",
       "    </tr>\n",
       "    <tr>\n",
       "      <th>...</th>\n",
       "      <td>...</td>\n",
       "    </tr>\n",
       "    <tr>\n",
       "      <th>52610</th>\n",
       "      <td>0x48310e638eaeb5aa9e63f9ff81c0afb1980f3060</td>\n",
       "    </tr>\n",
       "    <tr>\n",
       "      <th>52611</th>\n",
       "      <td>0x5e2b1e958146858e7b239470c29e48c8f68dd6a2</td>\n",
       "    </tr>\n",
       "    <tr>\n",
       "      <th>52612</th>\n",
       "      <td>0x39041f1b366fe33f9a5a79de5120f2aee2577ebc</td>\n",
       "    </tr>\n",
       "    <tr>\n",
       "      <th>52613</th>\n",
       "      <td>0x31a911b82a4330160bd280d0a033f380b5216bee</td>\n",
       "    </tr>\n",
       "    <tr>\n",
       "      <th>52614</th>\n",
       "      <td>0xbb45e7efae3c534185958318e593b16be6e31340</td>\n",
       "    </tr>\n",
       "  </tbody>\n",
       "</table>\n",
       "<p>41771 rows × 1 columns</p>\n",
       "</div>"
      ],
      "text/plain": [
       "                                          address\n",
       "10844  0xafd55fcaeb7a8e6671dfd77a612860ae25bb1bdb\n",
       "10845  0xa9233658adb2fdea68d2e181306209e8e57acea0\n",
       "10846  0xd863b4487924189c7ba32b567a9e7f7fe7a76d58\n",
       "10847  0x5751a4548842e307d221c1d53e11971c8d643e1a\n",
       "10848  0xeaed99036f369a2311fc7792592a33ce32a15166\n",
       "...                                           ...\n",
       "52610  0x48310e638eaeb5aa9e63f9ff81c0afb1980f3060\n",
       "52611  0x5e2b1e958146858e7b239470c29e48c8f68dd6a2\n",
       "52612  0x39041f1b366fe33f9a5a79de5120f2aee2577ebc\n",
       "52613  0x31a911b82a4330160bd280d0a033f380b5216bee\n",
       "52614  0xbb45e7efae3c534185958318e593b16be6e31340\n",
       "\n",
       "[41771 rows x 1 columns]"
      ]
     },
     "execution_count": 13,
     "metadata": {},
     "output_type": "execute_result"
    }
   ],
   "source": [
    "addresses_slice"
   ]
  },
  {
   "cell_type": "code",
   "execution_count": null,
   "metadata": {},
   "outputs": [],
   "source": [
    "for i, row in addresses_slice.iterrows():\n",
    "    print(i)\n",
    "    address = row['address']\n",
    "    type = is_contract(address)\n",
    "    addresses_slice.at[i, 'type'] = type\n",
    "    time.sleep(1/25)"
   ]
  },
  {
   "cell_type": "code",
   "execution_count": 16,
   "metadata": {},
   "outputs": [],
   "source": [
    "# addresses_slice['type'] = addresses_slice['address'].apply(is_contract)\n",
    "addresses_slice.to_csv('../data/polygon/checked_addresses_1_year_1.csv', index=False)"
   ]
  }
 ],
 "metadata": {
  "kernelspec": {
   "display_name": ".venv",
   "language": "python",
   "name": "python3"
  },
  "language_info": {
   "codemirror_mode": {
    "name": "ipython",
    "version": 3
   },
   "file_extension": ".py",
   "mimetype": "text/x-python",
   "name": "python",
   "nbconvert_exporter": "python",
   "pygments_lexer": "ipython3",
   "version": "3.9.4"
  }
 },
 "nbformat": 4,
 "nbformat_minor": 2
}
