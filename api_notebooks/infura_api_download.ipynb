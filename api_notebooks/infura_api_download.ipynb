{
 "cells": [
  {
   "cell_type": "code",
   "execution_count": 2,
   "metadata": {},
   "outputs": [],
   "source": [
    "import requests\n",
    "import time\n",
    "import csv\n",
    "import pandas as pd\n",
    "import os\n",
    "from web3 import Web3\n",
    "from dotenv import load_dotenv"
   ]
  },
  {
   "cell_type": "code",
   "execution_count": 28,
   "metadata": {},
   "outputs": [],
   "source": [
    "load_dotenv()\n",
    "api_key = os.getenv('INFURA_API_KEY')\n",
    "\n",
    "infura_mainnet_url = f'https://mainnet.infura.io/v3/{api_key}'\n",
    "infura_polygon_url = f'https://polygon-mainnet.infura.io/v3/{api_key}'\n",
    "infura_base_url = f'https://base-mainnet.infura.io/v3/{api_key}'\n",
    "infura_optimism_url = f'https://optimism-mainnet.infura.io/v3/{api_key}'\n",
    "infura_arbitrum_url = f'https://arbitrum-mainnet.infura.io/v3/{api_key}'\n",
    "\n",
    "web3 = Web3(Web3.HTTPProvider(infura_polygon_url))\n",
    "\n",
    "def is_contract(address):\n",
    "    code = web3.eth.get_code(Web3.to_checksum_address(address))\n",
    "    return len(code) > 2"
   ]
  },
  {
   "cell_type": "code",
   "execution_count": 15,
   "metadata": {},
   "outputs": [],
   "source": [
    "all_addresses = set()\n",
    "file_path = '../data/combined_transfers_1_year.csv'\n",
    "\n",
    "df = pd.read_csv(file_path)\n",
    "\n",
    "all_addresses.update(df['from'].unique())\n",
    "all_addresses.update(df['to'].unique())\n",
    "\n",
    "distinct_addresses_df = pd.DataFrame(list(all_addresses), columns=['address'])\n",
    "\n",
    "distinct_addresses_df.to_csv('../data/distinct_addresses_1_year.csv', index=False)"
   ]
  },
  {
   "cell_type": "code",
   "execution_count": 16,
   "metadata": {},
   "outputs": [],
   "source": [
    "df1 = pd.read_csv('../data/distinct_addresses_1_year.csv')\n",
    "\n",
    "df2 = pd.read_csv('../data/node_table.csv')\n",
    "\n",
    "filtered_df = df1[~df1['address'].isin(df2['address'])]\n",
    "\n",
    "filtered_df.to_csv('../data/addresses_to_check_1_year.csv', index=False)"
   ]
  },
  {
   "cell_type": "code",
   "execution_count": 4,
   "metadata": {},
   "outputs": [],
   "source": [
    "addresses_df = pd.read_csv('../data/polygon/distinct_addresses_1_year.csv')"
   ]
  },
  {
   "cell_type": "code",
   "execution_count": 33,
   "metadata": {},
   "outputs": [],
   "source": [
    "addresses_slice = addresses_df.iloc[2615:72615]"
   ]
  },
  {
   "cell_type": "code",
   "execution_count": 34,
   "metadata": {},
   "outputs": [
    {
     "data": {
      "text/html": [
       "<div>\n",
       "<style scoped>\n",
       "    .dataframe tbody tr th:only-of-type {\n",
       "        vertical-align: middle;\n",
       "    }\n",
       "\n",
       "    .dataframe tbody tr th {\n",
       "        vertical-align: top;\n",
       "    }\n",
       "\n",
       "    .dataframe thead th {\n",
       "        text-align: right;\n",
       "    }\n",
       "</style>\n",
       "<table border=\"1\" class=\"dataframe\">\n",
       "  <thead>\n",
       "    <tr style=\"text-align: right;\">\n",
       "      <th></th>\n",
       "      <th>address</th>\n",
       "    </tr>\n",
       "  </thead>\n",
       "  <tbody>\n",
       "    <tr>\n",
       "      <th>0</th>\n",
       "      <td>0x875aeb0e758a63a57b5441fddd6fdcac39695b3d</td>\n",
       "    </tr>\n",
       "    <tr>\n",
       "      <th>1</th>\n",
       "      <td>0xdbc2b3329afbe0dcd9ff4be888915b7ec30680db</td>\n",
       "    </tr>\n",
       "    <tr>\n",
       "      <th>2</th>\n",
       "      <td>0xf00cdad415e844510f574d3f2de8ba53e6caf9f6</td>\n",
       "    </tr>\n",
       "    <tr>\n",
       "      <th>3</th>\n",
       "      <td>0xe3e7318a716ddc7910571a7ed9ec7399735e8b33</td>\n",
       "    </tr>\n",
       "    <tr>\n",
       "      <th>4</th>\n",
       "      <td>0xd0f5d805278d191bd6104c0a9e66f2ff1258c2c8</td>\n",
       "    </tr>\n",
       "    <tr>\n",
       "      <th>...</th>\n",
       "      <td>...</td>\n",
       "    </tr>\n",
       "    <tr>\n",
       "      <th>2610</th>\n",
       "      <td>0xf09c2285250a22993d16abe41f836e898f033f5e</td>\n",
       "    </tr>\n",
       "    <tr>\n",
       "      <th>2611</th>\n",
       "      <td>0xca7c800e4aaadadd85b064665d008d934c6348c4</td>\n",
       "    </tr>\n",
       "    <tr>\n",
       "      <th>2612</th>\n",
       "      <td>0xa90ac3abbf1df85764c0e1a674ade5a90ac8f4fe</td>\n",
       "    </tr>\n",
       "    <tr>\n",
       "      <th>2613</th>\n",
       "      <td>0x81e128d6fdd7cb630df39b39f1ca877e26291ddc</td>\n",
       "    </tr>\n",
       "    <tr>\n",
       "      <th>2614</th>\n",
       "      <td>0x58ee012fc0080c33855fadefef2da1368d246fbd</td>\n",
       "    </tr>\n",
       "  </tbody>\n",
       "</table>\n",
       "<p>2615 rows × 1 columns</p>\n",
       "</div>"
      ],
      "text/plain": [
       "                                         address\n",
       "0     0x875aeb0e758a63a57b5441fddd6fdcac39695b3d\n",
       "1     0xdbc2b3329afbe0dcd9ff4be888915b7ec30680db\n",
       "2     0xf00cdad415e844510f574d3f2de8ba53e6caf9f6\n",
       "3     0xe3e7318a716ddc7910571a7ed9ec7399735e8b33\n",
       "4     0xd0f5d805278d191bd6104c0a9e66f2ff1258c2c8\n",
       "...                                          ...\n",
       "2610  0xf09c2285250a22993d16abe41f836e898f033f5e\n",
       "2611  0xca7c800e4aaadadd85b064665d008d934c6348c4\n",
       "2612  0xa90ac3abbf1df85764c0e1a674ade5a90ac8f4fe\n",
       "2613  0x81e128d6fdd7cb630df39b39f1ca877e26291ddc\n",
       "2614  0x58ee012fc0080c33855fadefef2da1368d246fbd\n",
       "\n",
       "[2615 rows x 1 columns]"
      ]
     },
     "execution_count": 34,
     "metadata": {},
     "output_type": "execute_result"
    }
   ],
   "source": [
    "addresses_slice"
   ]
  },
  {
   "cell_type": "code",
   "execution_count": 35,
   "metadata": {},
   "outputs": [
    {
     "name": "stderr",
     "output_type": "stream",
     "text": [
      "C:\\Users\\Sam\\AppData\\Local\\Temp\\ipykernel_8336\\81176144.py:1: SettingWithCopyWarning: \n",
      "A value is trying to be set on a copy of a slice from a DataFrame.\n",
      "Try using .loc[row_indexer,col_indexer] = value instead\n",
      "\n",
      "See the caveats in the documentation: https://pandas.pydata.org/pandas-docs/stable/user_guide/indexing.html#returning-a-view-versus-a-copy\n",
      "  addresses_slice['type'] = addresses_slice['address'].apply(is_contract)\n"
     ]
    }
   ],
   "source": [
    "addresses_slice['type'] = addresses_slice['address'].apply(is_contract)\n",
    "addresses_slice.to_csv('../data/polygon/checked_addresses_1_year_1.csv', index=False)"
   ]
  }
 ],
 "metadata": {
  "kernelspec": {
   "display_name": ".venv",
   "language": "python",
   "name": "python3"
  },
  "language_info": {
   "codemirror_mode": {
    "name": "ipython",
    "version": 3
   },
   "file_extension": ".py",
   "mimetype": "text/x-python",
   "name": "python",
   "nbconvert_exporter": "python",
   "pygments_lexer": "ipython3",
   "version": "3.9.4"
  }
 },
 "nbformat": 4,
 "nbformat_minor": 2
}
