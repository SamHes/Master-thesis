{
 "cells": [
  {
   "cell_type": "code",
   "execution_count": 1,
   "metadata": {},
   "outputs": [],
   "source": [
    "import requests\n",
    "import time\n",
    "import csv\n",
    "import pandas as pd\n",
    "import os\n",
    "from web3 import Web3\n",
    "from dotenv import load_dotenv"
   ]
  },
  {
   "cell_type": "code",
   "execution_count": 2,
   "metadata": {},
   "outputs": [],
   "source": [
    "load_dotenv()\n",
    "api_key = os.getenv('INFURA_API_KEY')\n",
    "\n",
    "infura_mainnet_url = f'https://mainnet.infura.io/v3/{api_key}'\n",
    "infura_polygon_url = f'https://polygon-mainnet.infura.io/v3/{api_key}'\n",
    "infura_base_url = f'https://base-mainnet.infura.io/v3/{api_key}'\n",
    "infura_optimism_url = f'https://optimism-mainnet.infura.io/v3/{api_key}'\n",
    "infura_arbitrum_url = f'https://arbitrum-mainnet.infura.io/v3/{api_key}'\n",
    "\n",
    "web3 = Web3(Web3.HTTPProvider(infura_polygon_url))\n",
    "\n",
    "def is_contract(address):\n",
    "    code = web3.eth.get_code(Web3.to_checksum_address(address))\n",
    "    return len(code) > 2"
   ]
  },
  {
   "cell_type": "code",
   "execution_count": 2,
   "metadata": {},
   "outputs": [],
   "source": [
    "all_addresses = set()\n",
    "\n",
    "df = pd.read_csv('../data/1_year/combined_transfers_1_year.csv')\n",
    "\n",
    "all_addresses.update(df['from'].unique())\n",
    "all_addresses.update(df['to'].unique())\n",
    "\n",
    "distinct_addresses_df = pd.DataFrame(list(all_addresses), columns=['address'])\n",
    "\n",
    "distinct_addresses_df.to_csv('../data/1_year/distinct_addresses_1_year.csv', index=False)"
   ]
  },
  {
   "cell_type": "code",
   "execution_count": 16,
   "metadata": {},
   "outputs": [],
   "source": [
    "df1 = pd.read_csv('../data/1_year/distinct_addresses_1_year.csv')\n",
    "\n",
    "df2 = pd.read_csv('../data/node_table.csv')\n",
    "\n",
    "filtered_df = df1[~df1['address'].isin(df2['address'])]\n",
    "\n",
    "filtered_df.to_csv('../data/1_year/addresses_to_check_1_year.csv', index=False)"
   ]
  },
  {
   "cell_type": "code",
   "execution_count": 3,
   "metadata": {},
   "outputs": [],
   "source": [
    "addresses_df = pd.read_csv('../data/polygon/distinct_addresses_1_year.csv')"
   ]
  },
  {
   "cell_type": "code",
   "execution_count": 12,
   "metadata": {},
   "outputs": [],
   "source": [
    "addresses_slice = addresses_df.iloc[10844:52615]"
   ]
  },
  {
   "cell_type": "code",
   "execution_count": null,
   "metadata": {},
   "outputs": [],
   "source": [
    "for i, row in addresses_slice.iterrows():\n",
    "    print(i)\n",
    "    address = row['address']\n",
    "    type = is_contract(address)\n",
    "    addresses_slice.at[i, 'type'] = type\n",
    "    time.sleep(1/25)"
   ]
  },
  {
   "cell_type": "code",
   "execution_count": 16,
   "metadata": {},
   "outputs": [],
   "source": [
    "# addresses_slice['type'] = addresses_slice['address'].apply(is_contract)\n",
    "addresses_slice.to_csv('../data/polygon/checked_addresses_1_year_1.csv', index=False)"
   ]
  }
 ],
 "metadata": {
  "kernelspec": {
   "display_name": ".venv",
   "language": "python",
   "name": "python3"
  },
  "language_info": {
   "codemirror_mode": {
    "name": "ipython",
    "version": 3
   },
   "file_extension": ".py",
   "mimetype": "text/x-python",
   "name": "python",
   "nbconvert_exporter": "python",
   "pygments_lexer": "ipython3",
   "version": "3.9.4"
  }
 },
 "nbformat": 4,
 "nbformat_minor": 2
}
