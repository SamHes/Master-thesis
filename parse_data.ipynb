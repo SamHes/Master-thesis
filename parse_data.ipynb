{
 "cells": [
  {
   "cell_type": "code",
   "execution_count": 1,
   "metadata": {},
   "outputs": [],
   "source": [
    "import pandas as pd\n",
    "import networkx as nx\n",
    "import matplotlib.pyplot as plt\n",
    "import numpy as np\n",
    "import seaborn as sns\n",
    "import plotly.graph_objs as go\n",
    "import scipy\n",
    "import requests\n",
    "import json"
   ]
  },
  {
   "cell_type": "code",
   "execution_count": null,
   "metadata": {},
   "outputs": [],
   "source": [
    "token_decimals = {\n",
    "    'aArbWETH': 10**18,\n",
    "    'cArbWETH': 10**18,\n",
    "    'aArbUSDC': 10**6,\n",
    "    'cArbUSDC': 10**6,\n",
    "    'aArbUSDT': 10**6,\n",
    "    'cArbUSDT': 10**6,\n",
    "    'aArbAAVE': 10**18,\n",
    "    'ArbAAVE': 10**18,\n",
    "    'ArbCOMP': 10**18\n",
    "}\n",
    "\n",
    "comp_tokens = ['COMP', 'cCOMP', 'cWETHv3', 'cUSDTv3', 'cUSDCv3']\n",
    "aave_tokens = ['AAVE', 'stkAAVE', 'aEthWETH', 'aEthUSDT', 'aEthUSDC']\n",
    "opt_tokens = ['aOptWETH', 'aOptUSDC', 'aOptUSDT', 'OptAAVE', 'cOptWETH', 'cOptUSDC', 'cOptUSDT', 'OptCOMP']\n",
    "pol_tokens = ['aPolWETH', 'aPolUSDC', 'aPolUSDT', 'PolAAVE', 'cPolUSDT', 'PolCOMP']\n",
    "bas_tokens = ['aBasWETH', 'aBasUSDC', 'cBasWETH', 'cBasUSDC', 'BasCOMP']\n",
    "arb_tokens = ['aArbWETH', 'aArbUSDC', 'aArbUSDT', 'ArbAAVE', 'cArbWETH', 'cArbUSDC', 'cArbUSDT', 'ArbCOMP']\n",
    "\n",
    "def scale_transfer_value(token, market):\n",
    "    df = pd.read_csv(f'data/{market}/{token}.csv')\n",
    "    df['value'] = df['value'].astype(float) / token_decimals[token]\n",
    "    df.to_csv(f'data/{market}/{token}.csv', index=False)\n",
    "    \n",
    "for token in arb_tokens:\n",
    "    scale_transfer_value(token, 'arbitrum')"
   ]
  },
  {
   "cell_type": "code",
   "execution_count": 7,
   "metadata": {},
   "outputs": [],
   "source": [
    "df_list = []\n",
    "\n",
    "for token in aave_tokens:\n",
    "    df = pd.read_csv(f'data/aave/{token}.csv')\n",
    "    df['token'] = token\n",
    "    \n",
    "    df_list.append(df)\n",
    "    \n",
    "for token in comp_tokens:\n",
    "    df = pd.read_csv(f'data/compound/{token}.csv')\n",
    "    df['token'] = token\n",
    "    \n",
    "    df_list.append(df)\n",
    "\n",
    "for token in opt_tokens:\n",
    "    df = pd.read_csv(f'data/optimism/{token}.csv')\n",
    "    df['token'] = token\n",
    "    \n",
    "    df_list.append(df)\n",
    "    \n",
    "for token in pol_tokens:\n",
    "    df = pd.read_csv(f'data/polygon/{token}.csv')\n",
    "    df['token'] = token\n",
    "    \n",
    "    df_list.append(df)\n",
    "    \n",
    "for token in bas_tokens:\n",
    "    df = pd.read_csv(f'data/base/{token}.csv')\n",
    "    df['token'] = token\n",
    "    \n",
    "    df_list.append(df)\n",
    "    \n",
    "for token in arb_tokens:\n",
    "    df = pd.read_csv(f'data/arbitrum/{token}.csv')\n",
    "    df['token'] = token\n",
    "    \n",
    "    df_list.append(df)\n",
    "    \n",
    "combined_df = pd.concat(df_list, ignore_index=True)\n",
    "combined_df.to_csv('data/complete/combined_transfers.csv', index=False)"
   ]
  },
  {
   "cell_type": "code",
   "execution_count": null,
   "metadata": {},
   "outputs": [],
   "source": [
    "with open('data/proposals/compound_proposals.json', 'r', encoding=\"utf8\") as f:\n",
    "    proposals_data = json.load(f)\n",
    "    \n",
    "with open('data/proposals/compound_votes.json', 'r', encoding=\"utf8\") as f:\n",
    "    votes_data = json.load(f)"
   ]
  },
  {
   "cell_type": "code",
   "execution_count": null,
   "metadata": {},
   "outputs": [],
   "source": [
    "def scale_proposals(proposals_data):\n",
    "    for proposal in proposals_data['data']['proposals']:\n",
    "        proposal['abstainWeightedVotes'] = str(int(proposal['abstainWeightedVotes']) / 10**18)\n",
    "        proposal['againstWeightedVotes'] = str(int(proposal['againstWeightedVotes']) / 10**18)\n",
    "        proposal['forWeightedVotes'] = str(int(proposal['forWeightedVotes']) / 10**18)\n",
    "        proposal['quorumVotes'] = str(int(proposal['quorumVotes']) / 10**18)\n",
    "        proposal['totalWeightedVotes'] = str(int(proposal['totalWeightedVotes']) / 10**18)\n",
    "    return proposals_data\n",
    "\n",
    "scaled_proposals = scale_proposals(proposals_data)\n",
    "\n",
    "with open('data/proposals/compound_scaled_proposals.json', 'w') as f:\n",
    "    json.dump(scaled_proposals, f, indent=4)"
   ]
  },
  {
   "cell_type": "code",
   "execution_count": null,
   "metadata": {},
   "outputs": [],
   "source": [
    "def scale_votes(votes_data):\n",
    "    for proposal in votes_data:\n",
    "        for vote in proposal['votes']:\n",
    "            vote['weight'] = str(int(vote['weight']) / 10**18)\n",
    "    return votes_data\n",
    "\n",
    "scaled_votes = scale_votes(votes_data)\n",
    "\n",
    "with open('data/proposals/compound_scaled_votes.json', 'w') as f:\n",
    "    json.dump(scaled_votes, f, indent=4)"
   ]
  },
  {
   "cell_type": "code",
   "execution_count": 7,
   "metadata": {},
   "outputs": [],
   "source": [
    "with open('data/proposals/aave/aave_v2_on_chain_proposals_1_year.json', 'r', encoding=\"utf8\") as f:\n",
    "    aave_v2_proposals = json.load(f)\n",
    "\n",
    "with open('data/proposals/aave/aave_v3_on_chain_proposals_1_year.json', 'r', encoding=\"utf8\") as f:\n",
    "    aave_v3_proposals = json.load(f)\n",
    "    \n",
    "with open('data/proposals/aave/aave_v2_on_chain_votes_1_year.json', 'r', encoding=\"utf8\") as f:\n",
    "    aave_v2_votes = json.load(f)\n",
    "\n",
    "with open('data/proposals/aave/aave_v3_on_chain_votes_1_year.json', 'r', encoding=\"utf8\") as f:\n",
    "    aave_v3_votes = json.load(f)"
   ]
  },
  {
   "cell_type": "code",
   "execution_count": 14,
   "metadata": {},
   "outputs": [],
   "source": [
    "for proposal in aave_v2_proposals['data']['proposals']:\n",
    "    proposal['currentNoVote'] = str(int(proposal['currentNoVote']) / 10**18)\n",
    "    proposal['currentYesVote'] = str(int(proposal['currentYesVote']) / 10**18)\n",
    "    \n",
    "with open('data/proposals/aave/aave_v2_on_chain_proposals_1_year.json', 'w') as f:\n",
    "    json.dump(aave_v2_proposals, f, indent=4)"
   ]
  },
  {
   "cell_type": "code",
   "execution_count": 13,
   "metadata": {},
   "outputs": [],
   "source": [
    "for proposal in aave_v3_proposals['data']['proposals']:\n",
    "    transactions = proposal['transactions']\n",
    "    if transactions.get('executed'):\n",
    "        proposal['state'] = \"Executed\"\n",
    "    elif transactions.get('canceled'):\n",
    "        proposal['state'] = \"Canceled\"\n",
    "    elif transactions.get('failed'):\n",
    "        proposal['state'] = \"Failed\"\n",
    "    else:\n",
    "        proposal['state'] = \"Active\"\n",
    "        \n",
    "    votes = proposal.get('votes')\n",
    "    if votes:\n",
    "        votes['againstVotes'] = str(int(votes['againstVotes']) / 10**18)\n",
    "        votes['forVotes'] = str(int(votes['forVotes']) / 10**18)\n",
    "        \n",
    "    for voters in aave_v3_votes:\n",
    "        if voters['proposal_id'] == int(proposal['id']):\n",
    "            proposal['totalCurrentVoters'] = len(voters['votes'])\n",
    "    \n",
    "with open('data/proposals/aave/aave_v3_on_chain_proposals_1_year.json', 'w') as f:\n",
    "    json.dump(aave_v3_proposals, f, indent=4)"
   ]
  },
  {
   "cell_type": "code",
   "execution_count": 3,
   "metadata": {},
   "outputs": [],
   "source": [
    "for votes in aave_v2_votes:\n",
    "    for vote in votes['votes']:\n",
    "        vote['weight'] = str(int(vote['weight']) / 10**18)\n",
    "        \n",
    "with open('data/proposals/aave/aave_v2_on_chain_votes_1_year.json', 'w') as f:\n",
    "    json.dump(aave_v2_votes, f, indent=4)"
   ]
  },
  {
   "cell_type": "code",
   "execution_count": 5,
   "metadata": {},
   "outputs": [],
   "source": [
    "for votes in aave_v3_votes:\n",
    "    for vote in votes['votes']:\n",
    "        if vote.get('choice') == 0:\n",
    "            vote['choice'] = \"AGAINST\"\n",
    "        elif vote.get('choice') == 1:\n",
    "            vote['choice'] = \"FOR\"\n",
    "        \n",
    "        vote['weight'] = str(vote['weight'] / 10**18)\n",
    "        \n",
    "with open('data/proposals/aave/aave_v3_on_chain_votes_1_year.json', 'w') as f:\n",
    "    json.dump(aave_v3_votes, f, indent=4)"
   ]
  }
 ],
 "metadata": {
  "kernelspec": {
   "display_name": ".venv",
   "language": "python",
   "name": "python3"
  },
  "language_info": {
   "codemirror_mode": {
    "name": "ipython",
    "version": 3
   },
   "file_extension": ".py",
   "mimetype": "text/x-python",
   "name": "python",
   "nbconvert_exporter": "python",
   "pygments_lexer": "ipython3",
   "version": "3.9.4"
  }
 },
 "nbformat": 4,
 "nbformat_minor": 2
}
