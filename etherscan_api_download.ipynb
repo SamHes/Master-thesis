{
 "cells": [
  {
   "cell_type": "code",
   "execution_count": 1,
   "metadata": {},
   "outputs": [],
   "source": [
    "import requests\n",
    "import time\n",
    "import csv\n",
    "import pandas as pd"
   ]
  },
  {
   "cell_type": "code",
   "execution_count": 2,
   "metadata": {},
   "outputs": [],
   "source": [
    "etherscan_API_key=\"7QYHPEXQXE3JSWJI4CVGZDJVZ9ZDYH3F2Y\"\n",
    "\n",
    "def get_transfers_in_block_range(start_block, end_block, contract_address):\n",
    "    transfers = []\n",
    "    url = f\"https://api.etherscan.io/api\"\n",
    "    \n",
    "    params = {\n",
    "        \"module\": \"account\",\n",
    "        \"action\": \"tokentx\",\n",
    "        \"contractaddress\": contract_address,\n",
    "        \"startBlock\": start_block,\n",
    "        \"endBlock\": end_block,\n",
    "        \"sort\": \"asc\",\n",
    "        \"apikey\": etherscan_API_key\n",
    "    }\n",
    "    \n",
    "    response = requests.get(url, params=params)\n",
    "    data = response.json()\n",
    "    \n",
    "    if 'result' in data:\n",
    "        for transfer in data['result']:\n",
    "            transfer_info = {\n",
    "                'timestamp': transfer['timeStamp'],\n",
    "                'value': transfer['value'],\n",
    "                'from': transfer['from'],\n",
    "                'to': transfer['to']\n",
    "            }\n",
    "            transfers.append(transfer_info)\n",
    "    \n",
    "    return transfers"
   ]
  },
  {
   "cell_type": "code",
   "execution_count": 3,
   "metadata": {},
   "outputs": [],
   "source": [
    "def save_transfers_to_csv(transfers, filename):\n",
    "    print(\"Saving\")\n",
    "    keys = transfers[0].keys()\n",
    "    with open(filename, 'w', newline='') as output_file:\n",
    "        dict_writer = csv.DictWriter(output_file, fieldnames=keys)\n",
    "        dict_writer.writeheader()\n",
    "        dict_writer.writerows(transfers)"
   ]
  },
  {
   "cell_type": "code",
   "execution_count": 4,
   "metadata": {},
   "outputs": [],
   "source": [
    "def get_all_transfers_in_chunks(start_block, end_block, contract_address, block_chunk_size=10000):\n",
    "    all_transfers = []\n",
    "    current_block = start_block\n",
    "    \n",
    "    while current_block < end_block:\n",
    "        next_block = min(current_block + block_chunk_size, end_block)\n",
    "        print(f\"Querying transfers from block {current_block} to {next_block}...\")\n",
    "        \n",
    "        transfers = get_transfers_in_block_range(current_block, next_block, contract_address)\n",
    "        all_transfers.extend(transfers)\n",
    "        \n",
    "        current_block = next_block + 1\n",
    "    \n",
    "    return all_transfers"
   ]
  },
  {
   "cell_type": "code",
   "execution_count": 12,
   "metadata": {},
   "outputs": [
    {
     "name": "stdout",
     "output_type": "stream",
     "text": [
      "Saving\n"
     ]
    }
   ],
   "source": [
    "# transfers = get_all_transfers_in_chunks(15412117, 20866918, \"0x3Afdc9BCA9213A35503b077a6072F3D0d5AB0840\", block_chunk_size=1000000)\n",
    "transfers = get_transfers_in_block_range(15412117, 20866918, \"0xA17581A9E3356d9A858b789D68B4d866e593aE94\")\n",
    "save_transfers_to_csv(transfers, \"cWETHv3.csv\")"
   ]
  }
 ],
 "metadata": {
  "kernelspec": {
   "display_name": ".venv",
   "language": "python",
   "name": "python3"
  },
  "language_info": {
   "codemirror_mode": {
    "name": "ipython",
    "version": 3
   },
   "file_extension": ".py",
   "mimetype": "text/x-python",
   "name": "python",
   "nbconvert_exporter": "python",
   "pygments_lexer": "ipython3",
   "version": "3.9.4"
  }
 },
 "nbformat": 4,
 "nbformat_minor": 2
}
